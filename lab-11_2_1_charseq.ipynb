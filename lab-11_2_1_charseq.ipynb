{
 "cells": [
  {
   "cell_type": "code",
   "execution_count": 7,
   "metadata": {},
   "outputs": [],
   "source": [
    "import torch\n",
    "import torch.optim as optim\n",
    "import numpy as np"
   ]
  },
  {
   "cell_type": "code",
   "execution_count": 8,
   "metadata": {},
   "outputs": [
    {
     "data": {
      "text/plain": [
       "<torch._C.Generator at 0x2aad2375a470>"
      ]
     },
     "execution_count": 8,
     "metadata": {},
     "output_type": "execute_result"
    }
   ],
   "source": [
    "# Random seed to make results deterministic and reproducible\n",
    "torch.manual_seed(0)"
   ]
  },
  {
   "cell_type": "code",
   "execution_count": 9,
   "metadata": {},
   "outputs": [],
   "source": [
    "sample = \" if you want you\""
   ]
  },
  {
   "cell_type": "code",
   "execution_count": 10,
   "metadata": {},
   "outputs": [
    {
     "name": "stdout",
     "output_type": "stream",
     "text": [
      "<class 'list'> ['f', ' ', 'a', 'n', 'y', 'w', 'i', 't', 'o', 'u']\n",
      "<class 'dict'> {'f': 0, ' ': 1, 'a': 2, 'n': 3, 'y': 4, 'w': 5, 'i': 6, 't': 7, 'o': 8, 'u': 9}\n"
     ]
    }
   ],
   "source": [
    "# make dictionary\n",
    "char_set = list(set(sample))\n",
    "char_dic = {c: i for i, c in enumerate(char_set)}\n",
    "print(type(char_set), char_set)\n",
    "print(type(char_dic), char_dic)"
   ]
  },
  {
   "cell_type": "code",
   "execution_count": 13,
   "metadata": {},
   "outputs": [
    {
     "name": "stdout",
     "output_type": "stream",
     "text": [
      "10 10\n"
     ]
    }
   ],
   "source": [
    "# hyper parameters\n",
    "dic_size = len(char_dic)\n",
    "hidden_size = len(char_dic)\n",
    "learning_rate = 0.1\n",
    "print(dic_size, hidden_size)"
   ]
  },
  {
   "cell_type": "code",
   "execution_count": 14,
   "metadata": {},
   "outputs": [
    {
     "data": {
      "text/plain": [
       "array([[1., 0., 0., 0., 0.],\n",
       "       [0., 1., 0., 0., 0.],\n",
       "       [0., 0., 1., 0., 0.],\n",
       "       [0., 0., 0., 1., 0.],\n",
       "       [0., 0., 0., 0., 1.]])"
      ]
     },
     "execution_count": 14,
     "metadata": {},
     "output_type": "execute_result"
    }
   ],
   "source": [
    "np.eye(5)"
   ]
  },
  {
   "cell_type": "code",
   "execution_count": 15,
   "metadata": {},
   "outputs": [],
   "source": [
    "# data setting\n",
    "sample_idx = [char_dic[c] for c in sample]\n",
    "x_data = [sample_idx[:-1]]\n",
    "x_one_hot = [np.eye(dic_size)[x] for x in x_data]\n",
    "y_data = [sample_idx[1:]]"
   ]
  },
  {
   "cell_type": "code",
   "execution_count": 16,
   "metadata": {},
   "outputs": [],
   "source": [
    "# transform as torch tensor variable\n",
    "X = torch.FloatTensor(x_one_hot)\n",
    "Y = torch.LongTensor(y_data)"
   ]
  },
  {
   "cell_type": "code",
   "execution_count": 18,
   "metadata": {},
   "outputs": [
    {
     "name": "stdout",
     "output_type": "stream",
     "text": [
      "10 10\n"
     ]
    }
   ],
   "source": [
    "print(dic_size, hidden_size)"
   ]
  },
  {
   "cell_type": "code",
   "execution_count": 19,
   "metadata": {},
   "outputs": [],
   "source": [
    "# declare RNN\n",
    "rnn = torch.nn.RNN(dic_size, hidden_size, batch_first=True)"
   ]
  },
  {
   "cell_type": "code",
   "execution_count": 20,
   "metadata": {},
   "outputs": [],
   "source": [
    "# loss & optimizer setting\n",
    "criterion = torch.nn.CrossEntropyLoss()\n",
    "optimizer = optim.Adam(rnn.parameters(), learning_rate)"
   ]
  },
  {
   "cell_type": "code",
   "execution_count": 21,
   "metadata": {
    "scrolled": true
   },
   "outputs": [
    {
     "name": "stdout",
     "output_type": "stream",
     "text": [
      "0 loss:  2.2659921646118164 prediction:  [[2 2 2 2 2 9 9 2 9 4 4 3 4 2 4]] true Y:  [[6, 0, 1, 4, 8, 9, 1, 5, 2, 3, 7, 1, 4, 8, 9]] prediction str:  aaaaauuauyynyay\n",
      "1 loss:  2.0488271713256836 prediction:  [[1 8 1 9 9 9 9 9 9 9 9 9 9 9 9]] true Y:  [[6, 0, 1, 4, 8, 9, 1, 5, 2, 3, 7, 1, 4, 8, 9]] prediction str:   o uuuuuuuuuuuu\n",
      "2 loss:  1.7770426273345947 prediction:  [[1 8 1 4 8 9 1 5 4 4 8 1 4 8 9]] true Y:  [[6, 0, 1, 4, 8, 9, 1, 5, 2, 3, 7, 1, 4, 8, 9]] prediction str:   o you wyyo you\n",
      "3 loss:  1.5952869653701782 prediction:  [[1 8 1 4 8 9 1 5 4 3 8 5 4 8 9]] true Y:  [[6, 0, 1, 4, 8, 9, 1, 5, 2, 3, 7, 1, 4, 8, 9]] prediction str:   o you wynowyou\n",
      "4 loss:  1.4471251964569092 prediction:  [[1 0 1 4 8 9 1 5 4 3 8 5 4 8 9]] true Y:  [[6, 0, 1, 4, 8, 9, 1, 5, 2, 3, 7, 1, 4, 8, 9]] prediction str:   f you wynowyou\n",
      "5 loss:  1.34563410282135 prediction:  [[1 0 1 4 8 9 1 1 4 3 7 1 4 8 9]] true Y:  [[6, 0, 1, 4, 8, 9, 1, 5, 2, 3, 7, 1, 4, 8, 9]] prediction str:   f you  ynt you\n",
      "6 loss:  1.2858065366744995 prediction:  [[1 0 1 4 8 9 1 1 2 9 7 1 4 8 9]] true Y:  [[6, 0, 1, 4, 8, 9, 1, 5, 2, 3, 7, 1, 4, 8, 9]] prediction str:   f you  aut you\n",
      "7 loss:  1.2341417074203491 prediction:  [[6 0 1 4 8 9 1 1 2 3 7 1 4 8 9]] true Y:  [[6, 0, 1, 4, 8, 9, 1, 5, 2, 3, 7, 1, 4, 8, 9]] prediction str:  if you  ant you\n",
      "8 loss:  1.1817104816436768 prediction:  [[6 0 1 4 8 9 1 5 2 3 7 1 4 8 9]] true Y:  [[6, 0, 1, 4, 8, 9, 1, 5, 2, 3, 7, 1, 4, 8, 9]] prediction str:  if you want you\n",
      "9 loss:  1.1335501670837402 prediction:  [[6 0 1 4 8 9 1 5 2 3 7 1 4 8 9]] true Y:  [[6, 0, 1, 4, 8, 9, 1, 5, 2, 3, 7, 1, 4, 8, 9]] prediction str:  if you want you\n",
      "10 loss:  1.0916153192520142 prediction:  [[6 0 1 4 8 9 1 5 2 3 7 1 4 8 9]] true Y:  [[6, 0, 1, 4, 8, 9, 1, 5, 2, 3, 7, 1, 4, 8, 9]] prediction str:  if you want you\n",
      "11 loss:  1.0593087673187256 prediction:  [[6 0 1 4 8 9 1 5 2 3 7 1 4 8 9]] true Y:  [[6, 0, 1, 4, 8, 9, 1, 5, 2, 3, 7, 1, 4, 8, 9]] prediction str:  if you want you\n",
      "12 loss:  1.027544617652893 prediction:  [[6 0 1 4 8 9 7 5 2 3 7 1 4 8 9]] true Y:  [[6, 0, 1, 4, 8, 9, 1, 5, 2, 3, 7, 1, 4, 8, 9]] prediction str:  if youtwant you\n",
      "13 loss:  0.9989021420478821 prediction:  [[6 0 1 4 8 9 7 5 2 3 7 1 4 8 9]] true Y:  [[6, 0, 1, 4, 8, 9, 1, 5, 2, 3, 7, 1, 4, 8, 9]] prediction str:  if youtwant you\n",
      "14 loss:  0.9774462580680847 prediction:  [[6 0 1 4 8 9 1 5 2 3 7 1 4 8 9]] true Y:  [[6, 0, 1, 4, 8, 9, 1, 5, 2, 3, 7, 1, 4, 8, 9]] prediction str:  if you want you\n",
      "15 loss:  0.962146520614624 prediction:  [[6 0 1 4 8 9 1 5 2 3 8 1 4 8 9]] true Y:  [[6, 0, 1, 4, 8, 9, 1, 5, 2, 3, 7, 1, 4, 8, 9]] prediction str:  if you wano you\n",
      "16 loss:  0.9520479440689087 prediction:  [[6 0 1 4 8 9 1 5 2 3 8 1 4 8 9]] true Y:  [[6, 0, 1, 4, 8, 9, 1, 5, 2, 3, 7, 1, 4, 8, 9]] prediction str:  if you wano you\n",
      "17 loss:  0.9442885518074036 prediction:  [[6 0 1 4 8 9 1 5 2 3 8 1 4 8 9]] true Y:  [[6, 0, 1, 4, 8, 9, 1, 5, 2, 3, 7, 1, 4, 8, 9]] prediction str:  if you wano you\n",
      "18 loss:  0.934683620929718 prediction:  [[6 0 1 4 8 9 1 5 2 3 8 1 4 8 9]] true Y:  [[6, 0, 1, 4, 8, 9, 1, 5, 2, 3, 7, 1, 4, 8, 9]] prediction str:  if you wano you\n",
      "19 loss:  0.9244757890701294 prediction:  [[6 0 1 4 8 9 1 5 2 3 8 1 4 8 9]] true Y:  [[6, 0, 1, 4, 8, 9, 1, 5, 2, 3, 7, 1, 4, 8, 9]] prediction str:  if you wano you\n",
      "20 loss:  0.9145057201385498 prediction:  [[6 0 1 4 8 9 1 5 2 3 8 1 4 8 9]] true Y:  [[6, 0, 1, 4, 8, 9, 1, 5, 2, 3, 7, 1, 4, 8, 9]] prediction str:  if you wano you\n",
      "21 loss:  0.9060210585594177 prediction:  [[6 0 1 4 8 9 1 5 2 3 7 1 4 8 9]] true Y:  [[6, 0, 1, 4, 8, 9, 1, 5, 2, 3, 7, 1, 4, 8, 9]] prediction str:  if you want you\n",
      "22 loss:  0.9000107645988464 prediction:  [[6 0 1 4 8 9 1 5 2 3 7 1 4 8 9]] true Y:  [[6, 0, 1, 4, 8, 9, 1, 5, 2, 3, 7, 1, 4, 8, 9]] prediction str:  if you want you\n",
      "23 loss:  0.8946549296379089 prediction:  [[6 0 1 4 8 9 1 5 2 3 7 1 4 8 9]] true Y:  [[6, 0, 1, 4, 8, 9, 1, 5, 2, 3, 7, 1, 4, 8, 9]] prediction str:  if you want you\n",
      "24 loss:  0.8895097970962524 prediction:  [[6 0 1 4 8 9 1 5 2 3 7 1 4 8 9]] true Y:  [[6, 0, 1, 4, 8, 9, 1, 5, 2, 3, 7, 1, 4, 8, 9]] prediction str:  if you want you\n",
      "25 loss:  0.8848652243614197 prediction:  [[6 0 1 4 8 9 1 5 2 3 7 1 4 8 9]] true Y:  [[6, 0, 1, 4, 8, 9, 1, 5, 2, 3, 7, 1, 4, 8, 9]] prediction str:  if you want you\n",
      "26 loss:  0.8803989887237549 prediction:  [[6 0 1 4 8 9 1 5 2 3 7 1 4 8 9]] true Y:  [[6, 0, 1, 4, 8, 9, 1, 5, 2, 3, 7, 1, 4, 8, 9]] prediction str:  if you want you\n",
      "27 loss:  0.8756468892097473 prediction:  [[6 0 1 4 8 9 1 5 2 3 7 1 4 8 9]] true Y:  [[6, 0, 1, 4, 8, 9, 1, 5, 2, 3, 7, 1, 4, 8, 9]] prediction str:  if you want you\n",
      "28 loss:  0.8702847957611084 prediction:  [[6 0 1 4 8 9 1 5 2 3 7 1 4 8 9]] true Y:  [[6, 0, 1, 4, 8, 9, 1, 5, 2, 3, 7, 1, 4, 8, 9]] prediction str:  if you want you\n",
      "29 loss:  0.8644313216209412 prediction:  [[6 0 1 4 8 9 1 5 2 3 7 1 4 8 9]] true Y:  [[6, 0, 1, 4, 8, 9, 1, 5, 2, 3, 7, 1, 4, 8, 9]] prediction str:  if you want you\n",
      "30 loss:  0.8580793738365173 prediction:  [[6 0 1 4 8 9 1 5 2 3 7 1 4 8 9]] true Y:  [[6, 0, 1, 4, 8, 9, 1, 5, 2, 3, 7, 1, 4, 8, 9]] prediction str:  if you want you\n",
      "31 loss:  0.8518401980400085 prediction:  [[6 0 1 4 8 9 1 5 2 3 7 1 4 8 9]] true Y:  [[6, 0, 1, 4, 8, 9, 1, 5, 2, 3, 7, 1, 4, 8, 9]] prediction str:  if you want you\n",
      "32 loss:  0.8482893705368042 prediction:  [[6 0 1 4 8 9 1 5 2 3 7 1 4 8 9]] true Y:  [[6, 0, 1, 4, 8, 9, 1, 5, 2, 3, 7, 1, 4, 8, 9]] prediction str:  if you want you\n",
      "33 loss:  0.8461810946464539 prediction:  [[6 0 1 4 8 9 1 5 2 3 7 1 4 8 9]] true Y:  [[6, 0, 1, 4, 8, 9, 1, 5, 2, 3, 7, 1, 4, 8, 9]] prediction str:  if you want you\n",
      "34 loss:  0.8424112796783447 prediction:  [[6 0 1 4 8 9 1 5 2 3 7 1 4 8 9]] true Y:  [[6, 0, 1, 4, 8, 9, 1, 5, 2, 3, 7, 1, 4, 8, 9]] prediction str:  if you want you\n",
      "35 loss:  0.8385428786277771 prediction:  [[6 0 1 4 8 9 1 5 2 3 7 1 4 8 9]] true Y:  [[6, 0, 1, 4, 8, 9, 1, 5, 2, 3, 7, 1, 4, 8, 9]] prediction str:  if you want you\n",
      "36 loss:  0.835673987865448 prediction:  [[6 0 1 4 8 9 1 5 2 3 7 1 4 8 9]] true Y:  [[6, 0, 1, 4, 8, 9, 1, 5, 2, 3, 7, 1, 4, 8, 9]] prediction str:  if you want you\n",
      "37 loss:  0.833600640296936 prediction:  [[6 0 1 4 8 9 1 5 2 3 7 1 4 8 9]] true Y:  [[6, 0, 1, 4, 8, 9, 1, 5, 2, 3, 7, 1, 4, 8, 9]] prediction str:  if you want you\n",
      "38 loss:  0.832358181476593 prediction:  [[6 0 1 4 8 9 1 5 2 3 7 1 4 8 9]] true Y:  [[6, 0, 1, 4, 8, 9, 1, 5, 2, 3, 7, 1, 4, 8, 9]] prediction str:  if you want you\n",
      "39 loss:  0.831329345703125 prediction:  [[6 0 1 4 8 9 1 5 2 3 7 1 4 8 9]] true Y:  [[6, 0, 1, 4, 8, 9, 1, 5, 2, 3, 7, 1, 4, 8, 9]] prediction str:  if you want you\n",
      "40 loss:  0.830000102519989 prediction:  [[6 0 1 4 8 9 1 5 2 3 7 1 4 8 9]] true Y:  [[6, 0, 1, 4, 8, 9, 1, 5, 2, 3, 7, 1, 4, 8, 9]] prediction str:  if you want you\n",
      "41 loss:  0.8286802768707275 prediction:  [[6 0 1 4 8 9 1 5 2 3 7 1 4 8 9]] true Y:  [[6, 0, 1, 4, 8, 9, 1, 5, 2, 3, 7, 1, 4, 8, 9]] prediction str:  if you want you\n",
      "42 loss:  0.8272430896759033 prediction:  [[6 0 1 4 8 9 1 5 2 3 7 1 4 8 9]] true Y:  [[6, 0, 1, 4, 8, 9, 1, 5, 2, 3, 7, 1, 4, 8, 9]] prediction str:  if you want you\n",
      "43 loss:  0.8257807493209839 prediction:  [[6 0 1 4 8 9 1 5 2 3 7 1 4 8 9]] true Y:  [[6, 0, 1, 4, 8, 9, 1, 5, 2, 3, 7, 1, 4, 8, 9]] prediction str:  if you want you\n",
      "44 loss:  0.8245848417282104 prediction:  [[6 0 1 4 8 9 1 5 2 3 7 1 4 8 9]] true Y:  [[6, 0, 1, 4, 8, 9, 1, 5, 2, 3, 7, 1, 4, 8, 9]] prediction str:  if you want you\n",
      "45 loss:  0.8234421014785767 prediction:  [[6 0 1 4 8 9 1 5 2 3 7 1 4 8 9]] true Y:  [[6, 0, 1, 4, 8, 9, 1, 5, 2, 3, 7, 1, 4, 8, 9]] prediction str:  if you want you\n",
      "46 loss:  0.8225589990615845 prediction:  [[6 0 1 4 8 9 1 5 2 3 7 1 4 8 9]] true Y:  [[6, 0, 1, 4, 8, 9, 1, 5, 2, 3, 7, 1, 4, 8, 9]] prediction str:  if you want you\n",
      "47 loss:  0.8217723965644836 prediction:  [[6 0 1 4 8 9 1 5 2 3 7 1 4 8 9]] true Y:  [[6, 0, 1, 4, 8, 9, 1, 5, 2, 3, 7, 1, 4, 8, 9]] prediction str:  if you want you\n",
      "48 loss:  0.8210709691047668 prediction:  [[6 0 1 4 8 9 1 5 2 3 7 1 4 8 9]] true Y:  [[6, 0, 1, 4, 8, 9, 1, 5, 2, 3, 7, 1, 4, 8, 9]] prediction str:  if you want you\n",
      "49 loss:  0.8205269575119019 prediction:  [[6 0 1 4 8 9 1 5 2 3 7 1 4 8 9]] true Y:  [[6, 0, 1, 4, 8, 9, 1, 5, 2, 3, 7, 1, 4, 8, 9]] prediction str:  if you want you\n"
     ]
    }
   ],
   "source": [
    "# start training\n",
    "for i in range(50):\n",
    "    optimizer.zero_grad()\n",
    "    outputs, _status = rnn(X)\n",
    "    loss = criterion(outputs.view(-1, dic_size), Y.view(-1))\n",
    "    loss.backward()\n",
    "    optimizer.step()\n",
    "\n",
    "    result = outputs.data.numpy().argmax(axis=2)\n",
    "    result_str = ''.join([char_set[c] for c in np.squeeze(result)])\n",
    "    print(i, \"loss: \", loss.item(), \"prediction: \", result, \"true Y: \", y_data, \"prediction str: \", result_str)"
   ]
  },
  {
   "cell_type": "code",
   "execution_count": 22,
   "metadata": {},
   "outputs": [
    {
     "data": {
      "text/plain": [
       "array([[6, 0, 1, 4, 8, 9, 1, 5, 2, 3, 7, 1, 4, 8, 9]])"
      ]
     },
     "execution_count": 22,
     "metadata": {},
     "output_type": "execute_result"
    }
   ],
   "source": [
    "result"
   ]
  },
  {
   "cell_type": "code",
   "execution_count": 23,
   "metadata": {},
   "outputs": [
    {
     "data": {
      "text/plain": [
       "array([6, 0, 1, 4, 8, 9, 1, 5, 2, 3, 7, 1, 4, 8, 9])"
      ]
     },
     "execution_count": 23,
     "metadata": {},
     "output_type": "execute_result"
    }
   ],
   "source": [
    "np.squeeze(result)"
   ]
  },
  {
   "cell_type": "code",
   "execution_count": null,
   "metadata": {},
   "outputs": [],
   "source": []
  }
 ],
 "metadata": {
  "kernelspec": {
   "display_name": "Python 3",
   "language": "python",
   "name": "python3"
  },
  "language_info": {
   "codemirror_mode": {
    "name": "ipython",
    "version": 3
   },
   "file_extension": ".py",
   "mimetype": "text/x-python",
   "name": "python",
   "nbconvert_exporter": "python",
   "pygments_lexer": "ipython3",
   "version": "3.6.9"
  }
 },
 "nbformat": 4,
 "nbformat_minor": 4
}
